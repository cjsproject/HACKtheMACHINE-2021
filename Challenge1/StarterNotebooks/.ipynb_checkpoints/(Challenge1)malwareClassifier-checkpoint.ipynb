{
 "cells": [
  {
   "cell_type": "code",
   "execution_count": 1588,
   "id": "e4d264ea",
   "metadata": {},
   "outputs": [],
   "source": [
    "%matplotlib inline\n",
    "import matplotlib.pyplot as plt\n",
    "import numpy as np\n",
    "import pandas as pd\n",
    "\n",
    "import torch\n",
    "\n",
    "from sklearn.metrics import f1_score, precision_score, recall_score\n",
    "from sklearn.dummy import DummyClassifier"
   ]
  },
  {
   "cell_type": "code",
   "execution_count": 1141,
   "id": "a18050e5",
   "metadata": {},
   "outputs": [
    {
     "name": "stdout",
     "output_type": "stream",
     "text": [
      "Collecting imbalanced-learn\n",
      "  Downloading imbalanced_learn-0.8.1-py3-none-any.whl (189 kB)\n",
      "Requirement already satisfied: joblib>=0.11 in c:\\users\\divin\\anaconda3\\envs\\torch\\lib\\site-packages (from imbalanced-learn) (1.0.1)\n",
      "Requirement already satisfied: numpy>=1.13.3 in c:\\users\\divin\\anaconda3\\envs\\torch\\lib\\site-packages (from imbalanced-learn) (1.19.2)\n",
      "Requirement already satisfied: scipy>=0.19.1 in c:\\users\\divin\\anaconda3\\envs\\torch\\lib\\site-packages (from imbalanced-learn) (1.6.2)\n",
      "Requirement already satisfied: scikit-learn>=0.24 in c:\\users\\divin\\anaconda3\\envs\\torch\\lib\\site-packages (from imbalanced-learn) (0.24.2)\n",
      "Requirement already satisfied: threadpoolctl>=2.0.0 in c:\\users\\divin\\anaconda3\\envs\\torch\\lib\\site-packages (from scikit-learn>=0.24->imbalanced-learn) (2.2.0)\n",
      "Installing collected packages: imbalanced-learn\n",
      "Successfully installed imbalanced-learn-0.8.1\n"
     ]
    }
   ],
   "source": [
    "!pip install -U imbalanced-learn"
   ]
  },
  {
   "cell_type": "code",
   "execution_count": 8,
   "id": "cb125e7f",
   "metadata": {},
   "outputs": [],
   "source": [
    "# Flattened EMBER Feature set\n",
    "# Easier to feed into ML models right away\n",
    "flatdf = pd.read_excel(\"../Data/flatten_train.xlsx\")\n",
    "\n",
    "# Raw EMBER features\n",
    "# More data but will require more preprocessing\n",
    "rawdf = pd.read_excel(\"../Data/raw_train.xlsx\")"
   ]
  },
  {
   "cell_type": "code",
   "execution_count": 1652,
   "id": "88c24505",
   "metadata": {},
   "outputs": [
    {
     "data": {
      "text/html": [
       "<div>\n",
       "<style scoped>\n",
       "    .dataframe tbody tr th:only-of-type {\n",
       "        vertical-align: middle;\n",
       "    }\n",
       "\n",
       "    .dataframe tbody tr th {\n",
       "        vertical-align: top;\n",
       "    }\n",
       "\n",
       "    .dataframe thead th {\n",
       "        text-align: right;\n",
       "    }\n",
       "</style>\n",
       "<table border=\"1\" class=\"dataframe\">\n",
       "  <thead>\n",
       "    <tr style=\"text-align: right;\">\n",
       "      <th></th>\n",
       "      <th>sha256</th>\n",
       "      <th>histogram_0</th>\n",
       "      <th>histogram_1</th>\n",
       "      <th>histogram_2</th>\n",
       "      <th>histogram_3</th>\n",
       "      <th>histogram_4</th>\n",
       "      <th>histogram_5</th>\n",
       "      <th>histogram_6</th>\n",
       "      <th>histogram_7</th>\n",
       "      <th>histogram_8</th>\n",
       "      <th>...</th>\n",
       "      <th>datadirectories_13_name</th>\n",
       "      <th>datadirectories_13_size</th>\n",
       "      <th>datadirectories_13_virtual_address</th>\n",
       "      <th>datadirectories_14_name</th>\n",
       "      <th>datadirectories_14_size</th>\n",
       "      <th>datadirectories_14_virtual_address</th>\n",
       "      <th>datadirectories_15_name</th>\n",
       "      <th>datadirectories_15_size</th>\n",
       "      <th>datadirectories_15_virtual_address</th>\n",
       "      <th>category</th>\n",
       "    </tr>\n",
       "  </thead>\n",
       "  <tbody>\n",
       "    <tr>\n",
       "      <th>0</th>\n",
       "      <td>15f88c44e29e74965cbec984cd4244786eeb4ccde02328...</td>\n",
       "      <td>127242</td>\n",
       "      <td>9185</td>\n",
       "      <td>3818</td>\n",
       "      <td>3127</td>\n",
       "      <td>13300</td>\n",
       "      <td>1594</td>\n",
       "      <td>1781</td>\n",
       "      <td>1493</td>\n",
       "      <td>9938</td>\n",
       "      <td>...</td>\n",
       "      <td>DELAY_IMPORT_DESCRIPTOR</td>\n",
       "      <td>0</td>\n",
       "      <td>0</td>\n",
       "      <td>CLR_RUNTIME_HEADER</td>\n",
       "      <td>0</td>\n",
       "      <td>0</td>\n",
       "      <td>???</td>\n",
       "      <td>0</td>\n",
       "      <td>0</td>\n",
       "      <td>0</td>\n",
       "    </tr>\n",
       "    <tr>\n",
       "      <th>1</th>\n",
       "      <td>29bb2a854de0f99bdb7120870ad42af6a3b5b5c6fc3578...</td>\n",
       "      <td>36152</td>\n",
       "      <td>2617</td>\n",
       "      <td>4120</td>\n",
       "      <td>876</td>\n",
       "      <td>1711</td>\n",
       "      <td>755</td>\n",
       "      <td>672</td>\n",
       "      <td>521</td>\n",
       "      <td>2278</td>\n",
       "      <td>...</td>\n",
       "      <td>DELAY_IMPORT_DESCRIPTOR</td>\n",
       "      <td>0</td>\n",
       "      <td>0</td>\n",
       "      <td>CLR_RUNTIME_HEADER</td>\n",
       "      <td>0</td>\n",
       "      <td>0</td>\n",
       "      <td>???</td>\n",
       "      <td>0</td>\n",
       "      <td>0</td>\n",
       "      <td>0</td>\n",
       "    </tr>\n",
       "    <tr>\n",
       "      <th>2</th>\n",
       "      <td>5cd8667d8375bf799fe89ac9b74cf08bf69dfa18a4e551...</td>\n",
       "      <td>39986</td>\n",
       "      <td>7112</td>\n",
       "      <td>7953</td>\n",
       "      <td>6604</td>\n",
       "      <td>6542</td>\n",
       "      <td>6441</td>\n",
       "      <td>5869</td>\n",
       "      <td>6422</td>\n",
       "      <td>6224</td>\n",
       "      <td>...</td>\n",
       "      <td>DELAY_IMPORT_DESCRIPTOR</td>\n",
       "      <td>0</td>\n",
       "      <td>0</td>\n",
       "      <td>CLR_RUNTIME_HEADER</td>\n",
       "      <td>0</td>\n",
       "      <td>0</td>\n",
       "      <td>???</td>\n",
       "      <td>0</td>\n",
       "      <td>0</td>\n",
       "      <td>0</td>\n",
       "    </tr>\n",
       "    <tr>\n",
       "      <th>3</th>\n",
       "      <td>ce63706c0adf4851a8d2eb26fa97750cfaec7345151367...</td>\n",
       "      <td>253873</td>\n",
       "      <td>32714</td>\n",
       "      <td>22629</td>\n",
       "      <td>17500</td>\n",
       "      <td>15355</td>\n",
       "      <td>6691</td>\n",
       "      <td>10881</td>\n",
       "      <td>4258</td>\n",
       "      <td>11992</td>\n",
       "      <td>...</td>\n",
       "      <td>DELAY_IMPORT_DESCRIPTOR</td>\n",
       "      <td>0</td>\n",
       "      <td>0</td>\n",
       "      <td>CLR_RUNTIME_HEADER</td>\n",
       "      <td>0</td>\n",
       "      <td>0</td>\n",
       "      <td>???</td>\n",
       "      <td>0</td>\n",
       "      <td>0</td>\n",
       "      <td>0</td>\n",
       "    </tr>\n",
       "    <tr>\n",
       "      <th>4</th>\n",
       "      <td>5e65dd9986fc47c5fe45208fab5e1c78730699800eaf96...</td>\n",
       "      <td>12464</td>\n",
       "      <td>1020</td>\n",
       "      <td>502</td>\n",
       "      <td>264</td>\n",
       "      <td>1918</td>\n",
       "      <td>218</td>\n",
       "      <td>262</td>\n",
       "      <td>91</td>\n",
       "      <td>846</td>\n",
       "      <td>...</td>\n",
       "      <td>DELAY_IMPORT_DESCRIPTOR</td>\n",
       "      <td>0</td>\n",
       "      <td>0</td>\n",
       "      <td>CLR_RUNTIME_HEADER</td>\n",
       "      <td>0</td>\n",
       "      <td>0</td>\n",
       "      <td>???</td>\n",
       "      <td>0</td>\n",
       "      <td>0</td>\n",
       "      <td>0</td>\n",
       "    </tr>\n",
       "  </tbody>\n",
       "</table>\n",
       "<p>5 rows × 714 columns</p>\n",
       "</div>"
      ],
      "text/plain": [
       "                                              sha256  histogram_0  \\\n",
       "0  15f88c44e29e74965cbec984cd4244786eeb4ccde02328...       127242   \n",
       "1  29bb2a854de0f99bdb7120870ad42af6a3b5b5c6fc3578...        36152   \n",
       "2  5cd8667d8375bf799fe89ac9b74cf08bf69dfa18a4e551...        39986   \n",
       "3  ce63706c0adf4851a8d2eb26fa97750cfaec7345151367...       253873   \n",
       "4  5e65dd9986fc47c5fe45208fab5e1c78730699800eaf96...        12464   \n",
       "\n",
       "   histogram_1  histogram_2  histogram_3  histogram_4  histogram_5  \\\n",
       "0         9185         3818         3127        13300         1594   \n",
       "1         2617         4120          876         1711          755   \n",
       "2         7112         7953         6604         6542         6441   \n",
       "3        32714        22629        17500        15355         6691   \n",
       "4         1020          502          264         1918          218   \n",
       "\n",
       "   histogram_6  histogram_7  histogram_8  ...  datadirectories_13_name  \\\n",
       "0         1781         1493         9938  ...  DELAY_IMPORT_DESCRIPTOR   \n",
       "1          672          521         2278  ...  DELAY_IMPORT_DESCRIPTOR   \n",
       "2         5869         6422         6224  ...  DELAY_IMPORT_DESCRIPTOR   \n",
       "3        10881         4258        11992  ...  DELAY_IMPORT_DESCRIPTOR   \n",
       "4          262           91          846  ...  DELAY_IMPORT_DESCRIPTOR   \n",
       "\n",
       "   datadirectories_13_size  datadirectories_13_virtual_address  \\\n",
       "0                        0                                   0   \n",
       "1                        0                                   0   \n",
       "2                        0                                   0   \n",
       "3                        0                                   0   \n",
       "4                        0                                   0   \n",
       "\n",
       "   datadirectories_14_name  datadirectories_14_size  \\\n",
       "0       CLR_RUNTIME_HEADER                        0   \n",
       "1       CLR_RUNTIME_HEADER                        0   \n",
       "2       CLR_RUNTIME_HEADER                        0   \n",
       "3       CLR_RUNTIME_HEADER                        0   \n",
       "4       CLR_RUNTIME_HEADER                        0   \n",
       "\n",
       "   datadirectories_14_virtual_address  datadirectories_15_name  \\\n",
       "0                                   0                      ???   \n",
       "1                                   0                      ???   \n",
       "2                                   0                      ???   \n",
       "3                                   0                      ???   \n",
       "4                                   0                      ???   \n",
       "\n",
       "   datadirectories_15_size  datadirectories_15_virtual_address  category  \n",
       "0                        0                                   0         0  \n",
       "1                        0                                   0         0  \n",
       "2                        0                                   0         0  \n",
       "3                        0                                   0         0  \n",
       "4                        0                                   0         0  \n",
       "\n",
       "[5 rows x 714 columns]"
      ]
     },
     "execution_count": 1652,
     "metadata": {},
     "output_type": "execute_result"
    }
   ],
   "source": [
    "flatdf.head()"
   ]
  },
  {
   "cell_type": "code",
   "execution_count": 68,
   "id": "67dd5ea9",
   "metadata": {},
   "outputs": [
    {
     "data": {
      "text/plain": [
       "256"
      ]
     },
     "execution_count": 68,
     "metadata": {},
     "output_type": "execute_result"
    }
   ],
   "source": [
    "len(rawdf['histogram'][0][1:-1].split(',')) # length of the histograms"
   ]
  },
  {
   "cell_type": "code",
   "execution_count": 69,
   "id": "a2bccdfc",
   "metadata": {},
   "outputs": [
    {
     "data": {
      "text/plain": [
       "256"
      ]
     },
     "execution_count": 69,
     "metadata": {},
     "output_type": "execute_result"
    }
   ],
   "source": [
    "len(rawdf['byteentropy'][0][1:-1].split(',')) # length of the byteentropy histogram"
   ]
  },
  {
   "cell_type": "code",
   "execution_count": 22,
   "id": "269ad409",
   "metadata": {},
   "outputs": [
    {
     "data": {
      "text/html": [
       "<div>\n",
       "<style scoped>\n",
       "    .dataframe tbody tr th:only-of-type {\n",
       "        vertical-align: middle;\n",
       "    }\n",
       "\n",
       "    .dataframe tbody tr th {\n",
       "        vertical-align: top;\n",
       "    }\n",
       "\n",
       "    .dataframe thead th {\n",
       "        text-align: right;\n",
       "    }\n",
       "</style>\n",
       "<table border=\"1\" class=\"dataframe\">\n",
       "  <thead>\n",
       "    <tr style=\"text-align: right;\">\n",
       "      <th></th>\n",
       "      <th>sha256</th>\n",
       "      <th>histogram_0</th>\n",
       "      <th>histogram_1</th>\n",
       "      <th>histogram_2</th>\n",
       "      <th>histogram_3</th>\n",
       "      <th>histogram_4</th>\n",
       "      <th>histogram_5</th>\n",
       "      <th>histogram_6</th>\n",
       "      <th>histogram_7</th>\n",
       "      <th>histogram_8</th>\n",
       "      <th>...</th>\n",
       "      <th>datadirectories_13_name</th>\n",
       "      <th>datadirectories_13_size</th>\n",
       "      <th>datadirectories_13_virtual_address</th>\n",
       "      <th>datadirectories_14_name</th>\n",
       "      <th>datadirectories_14_size</th>\n",
       "      <th>datadirectories_14_virtual_address</th>\n",
       "      <th>datadirectories_15_name</th>\n",
       "      <th>datadirectories_15_size</th>\n",
       "      <th>datadirectories_15_virtual_address</th>\n",
       "      <th>category</th>\n",
       "    </tr>\n",
       "  </thead>\n",
       "  <tbody>\n",
       "    <tr>\n",
       "      <th>0</th>\n",
       "      <td>15f88c44e29e74965cbec984cd4244786eeb4ccde02328...</td>\n",
       "      <td>127242</td>\n",
       "      <td>9185</td>\n",
       "      <td>3818</td>\n",
       "      <td>3127</td>\n",
       "      <td>13300</td>\n",
       "      <td>1594</td>\n",
       "      <td>1781</td>\n",
       "      <td>1493</td>\n",
       "      <td>9938</td>\n",
       "      <td>...</td>\n",
       "      <td>DELAY_IMPORT_DESCRIPTOR</td>\n",
       "      <td>0</td>\n",
       "      <td>0</td>\n",
       "      <td>CLR_RUNTIME_HEADER</td>\n",
       "      <td>0</td>\n",
       "      <td>0</td>\n",
       "      <td>???</td>\n",
       "      <td>0</td>\n",
       "      <td>0</td>\n",
       "      <td>0</td>\n",
       "    </tr>\n",
       "    <tr>\n",
       "      <th>1</th>\n",
       "      <td>29bb2a854de0f99bdb7120870ad42af6a3b5b5c6fc3578...</td>\n",
       "      <td>36152</td>\n",
       "      <td>2617</td>\n",
       "      <td>4120</td>\n",
       "      <td>876</td>\n",
       "      <td>1711</td>\n",
       "      <td>755</td>\n",
       "      <td>672</td>\n",
       "      <td>521</td>\n",
       "      <td>2278</td>\n",
       "      <td>...</td>\n",
       "      <td>DELAY_IMPORT_DESCRIPTOR</td>\n",
       "      <td>0</td>\n",
       "      <td>0</td>\n",
       "      <td>CLR_RUNTIME_HEADER</td>\n",
       "      <td>0</td>\n",
       "      <td>0</td>\n",
       "      <td>???</td>\n",
       "      <td>0</td>\n",
       "      <td>0</td>\n",
       "      <td>0</td>\n",
       "    </tr>\n",
       "    <tr>\n",
       "      <th>2</th>\n",
       "      <td>5cd8667d8375bf799fe89ac9b74cf08bf69dfa18a4e551...</td>\n",
       "      <td>39986</td>\n",
       "      <td>7112</td>\n",
       "      <td>7953</td>\n",
       "      <td>6604</td>\n",
       "      <td>6542</td>\n",
       "      <td>6441</td>\n",
       "      <td>5869</td>\n",
       "      <td>6422</td>\n",
       "      <td>6224</td>\n",
       "      <td>...</td>\n",
       "      <td>DELAY_IMPORT_DESCRIPTOR</td>\n",
       "      <td>0</td>\n",
       "      <td>0</td>\n",
       "      <td>CLR_RUNTIME_HEADER</td>\n",
       "      <td>0</td>\n",
       "      <td>0</td>\n",
       "      <td>???</td>\n",
       "      <td>0</td>\n",
       "      <td>0</td>\n",
       "      <td>0</td>\n",
       "    </tr>\n",
       "    <tr>\n",
       "      <th>3</th>\n",
       "      <td>ce63706c0adf4851a8d2eb26fa97750cfaec7345151367...</td>\n",
       "      <td>253873</td>\n",
       "      <td>32714</td>\n",
       "      <td>22629</td>\n",
       "      <td>17500</td>\n",
       "      <td>15355</td>\n",
       "      <td>6691</td>\n",
       "      <td>10881</td>\n",
       "      <td>4258</td>\n",
       "      <td>11992</td>\n",
       "      <td>...</td>\n",
       "      <td>DELAY_IMPORT_DESCRIPTOR</td>\n",
       "      <td>0</td>\n",
       "      <td>0</td>\n",
       "      <td>CLR_RUNTIME_HEADER</td>\n",
       "      <td>0</td>\n",
       "      <td>0</td>\n",
       "      <td>???</td>\n",
       "      <td>0</td>\n",
       "      <td>0</td>\n",
       "      <td>0</td>\n",
       "    </tr>\n",
       "    <tr>\n",
       "      <th>4</th>\n",
       "      <td>5e65dd9986fc47c5fe45208fab5e1c78730699800eaf96...</td>\n",
       "      <td>12464</td>\n",
       "      <td>1020</td>\n",
       "      <td>502</td>\n",
       "      <td>264</td>\n",
       "      <td>1918</td>\n",
       "      <td>218</td>\n",
       "      <td>262</td>\n",
       "      <td>91</td>\n",
       "      <td>846</td>\n",
       "      <td>...</td>\n",
       "      <td>DELAY_IMPORT_DESCRIPTOR</td>\n",
       "      <td>0</td>\n",
       "      <td>0</td>\n",
       "      <td>CLR_RUNTIME_HEADER</td>\n",
       "      <td>0</td>\n",
       "      <td>0</td>\n",
       "      <td>???</td>\n",
       "      <td>0</td>\n",
       "      <td>0</td>\n",
       "      <td>0</td>\n",
       "    </tr>\n",
       "  </tbody>\n",
       "</table>\n",
       "<p>5 rows × 714 columns</p>\n",
       "</div>"
      ],
      "text/plain": [
       "                                              sha256  histogram_0  \\\n",
       "0  15f88c44e29e74965cbec984cd4244786eeb4ccde02328...       127242   \n",
       "1  29bb2a854de0f99bdb7120870ad42af6a3b5b5c6fc3578...        36152   \n",
       "2  5cd8667d8375bf799fe89ac9b74cf08bf69dfa18a4e551...        39986   \n",
       "3  ce63706c0adf4851a8d2eb26fa97750cfaec7345151367...       253873   \n",
       "4  5e65dd9986fc47c5fe45208fab5e1c78730699800eaf96...        12464   \n",
       "\n",
       "   histogram_1  histogram_2  histogram_3  histogram_4  histogram_5  \\\n",
       "0         9185         3818         3127        13300         1594   \n",
       "1         2617         4120          876         1711          755   \n",
       "2         7112         7953         6604         6542         6441   \n",
       "3        32714        22629        17500        15355         6691   \n",
       "4         1020          502          264         1918          218   \n",
       "\n",
       "   histogram_6  histogram_7  histogram_8  ...  datadirectories_13_name  \\\n",
       "0         1781         1493         9938  ...  DELAY_IMPORT_DESCRIPTOR   \n",
       "1          672          521         2278  ...  DELAY_IMPORT_DESCRIPTOR   \n",
       "2         5869         6422         6224  ...  DELAY_IMPORT_DESCRIPTOR   \n",
       "3        10881         4258        11992  ...  DELAY_IMPORT_DESCRIPTOR   \n",
       "4          262           91          846  ...  DELAY_IMPORT_DESCRIPTOR   \n",
       "\n",
       "   datadirectories_13_size  datadirectories_13_virtual_address  \\\n",
       "0                        0                                   0   \n",
       "1                        0                                   0   \n",
       "2                        0                                   0   \n",
       "3                        0                                   0   \n",
       "4                        0                                   0   \n",
       "\n",
       "   datadirectories_14_name  datadirectories_14_size  \\\n",
       "0       CLR_RUNTIME_HEADER                        0   \n",
       "1       CLR_RUNTIME_HEADER                        0   \n",
       "2       CLR_RUNTIME_HEADER                        0   \n",
       "3       CLR_RUNTIME_HEADER                        0   \n",
       "4       CLR_RUNTIME_HEADER                        0   \n",
       "\n",
       "   datadirectories_14_virtual_address  datadirectories_15_name  \\\n",
       "0                                   0                      ???   \n",
       "1                                   0                      ???   \n",
       "2                                   0                      ???   \n",
       "3                                   0                      ???   \n",
       "4                                   0                      ???   \n",
       "\n",
       "   datadirectories_15_size  datadirectories_15_virtual_address  category  \n",
       "0                        0                                   0         0  \n",
       "1                        0                                   0         0  \n",
       "2                        0                                   0         0  \n",
       "3                        0                                   0         0  \n",
       "4                        0                                   0         0  \n",
       "\n",
       "[5 rows x 714 columns]"
      ]
     },
     "execution_count": 22,
     "metadata": {},
     "output_type": "execute_result"
    }
   ],
   "source": [
    "flatdf.head()"
   ]
  },
  {
   "cell_type": "code",
   "execution_count": 1536,
   "id": "7a71344a",
   "metadata": {},
   "outputs": [],
   "source": [
    "sha_labels = flatdf['sha256'].values\n",
    "X_train = torch.tensor(flatdf.select_dtypes(include=np.number).drop('category', axis=1).values).float()\n",
    "y_train = torch.tensor(flatdf['category'].values).long()"
   ]
  },
  {
   "cell_type": "code",
   "execution_count": 1537,
   "id": "c19f3ff8",
   "metadata": {},
   "outputs": [
    {
     "name": "stdout",
     "output_type": "stream",
     "text": [
      "151\n",
      "0\n"
     ]
    }
   ],
   "source": [
    "#for i in enumerate(flatdf.section_entry.unique()): # apply this to text later\n",
    "#    print(i)\n",
    "\n",
    "def find_key(input_dict, value):\n",
    "    return next((k for k, v in input_dict.items() if v == value), None)\n",
    "\n",
    "uniques = dict(enumerate(flatdf.section_entry.unique()))\n",
    "\n",
    "us = np.empty([X_train.shape[0], 1])\n",
    "\n",
    "for i in range(X_train.shape[0]):\n",
    "    us[i] = find_key(uniques, flatdf.section_entry[i])\n",
    "    #print(type(us[i]), us[i], flatdf.section_entry[i])\n",
    "\n",
    "\n",
    "print(np.count_nonzero(np.isnan(us)))\n",
    "us = np.nan_to_num(us, nan=len(uniques)+1)\n",
    "print(np.count_nonzero(np.isnan(us)))\n",
    "us = torch.from_numpy(us)"
   ]
  },
  {
   "cell_type": "code",
   "execution_count": 1538,
   "id": "c7aedbd9",
   "metadata": {},
   "outputs": [
    {
     "name": "stdout",
     "output_type": "stream",
     "text": [
      "torch.Size([18000, 693])\n"
     ]
    }
   ],
   "source": [
    "print(X_train.shape)\n",
    "\n",
    "\n",
    "X_train = torch.cat((X_train, us), dim=1)"
   ]
  },
  {
   "cell_type": "code",
   "execution_count": 1539,
   "id": "54cdd97f",
   "metadata": {},
   "outputs": [
    {
     "data": {
      "text/plain": [
       "torch.Size([18000, 694])"
      ]
     },
     "execution_count": 1539,
     "metadata": {},
     "output_type": "execute_result"
    }
   ],
   "source": [
    "X_train.shape"
   ]
  },
  {
   "cell_type": "code",
   "execution_count": 762,
   "id": "5f372a24",
   "metadata": {},
   "outputs": [
    {
     "data": {
      "text/plain": [
       "(array([[1., 0., 0., ..., 0., 0., 0.],\n",
       "        [1., 0., 0., ..., 0., 0., 0.],\n",
       "        [1., 0., 0., ..., 0., 0., 0.],\n",
       "        ...,\n",
       "        [1., 0., 0., ..., 0., 0., 0.],\n",
       "        [1., 0., 0., ..., 0., 0., 0.],\n",
       "        [1., 0., 0., ..., 0., 0., 0.]]),\n",
       " array([     0. ,  29785.1,  59570.2,  89355.3, 119140.4, 148925.5,\n",
       "        178710.6, 208495.7, 238280.8, 268065.9, 297851. ], dtype=float32),\n",
       " <a list of 256 BarContainer objects>)"
      ]
     },
     "execution_count": 762,
     "metadata": {},
     "output_type": "execute_result"
    },
    {
     "data": {
      "image/png": "[encoded data removed]",
      "text/plain": [
       "<Figure size 432x288 with 1 Axes>"
      ]
     },
     "metadata": {
      "needs_background": "light"
     },
     "output_type": "display_data"
    }
   ],
   "source": [
    "plt.hist(X_train[100, 256:512])# viewing entropy distributions"
   ]
  },
  {
   "cell_type": "code",
   "execution_count": 1176,
   "id": "9828eea6",
   "metadata": {},
   "outputs": [
    {
     "name": "stdout",
     "output_type": "stream",
     "text": [
      "f1 score = 0.09259259259259259\n",
      "precision score = 0.05090748118636565\n",
      "recall score = 0.5111111111111111\n"
     ]
    }
   ],
   "source": [
    "dclf = DummyClassifier(strategy='uniform')\n",
    "\n",
    "dclf.fit(xres, yres)\n",
    "dummypred = dclf.predict(X_train)\n",
    "\n",
    "print(f\"f1 score = {f1_score(y_train, dummypred)}\")\n",
    "\n",
    "print(f\"precision score = {precision_score(y_train, dummypred)}\")\n",
    "print(f\"recall score = {recall_score(y_train, dummypred)}\")\n"
   ]
  },
  {
   "cell_type": "code",
   "execution_count": 1345,
   "id": "509ca3af",
   "metadata": {},
   "outputs": [
    {
     "data": {
      "text/plain": [
       "sha256             0\n",
       "histogram          0\n",
       "byteentropy        0\n",
       "strings            0\n",
       "general            0\n",
       "header             0\n",
       "section            0\n",
       "imports            0\n",
       "exports            0\n",
       "datadirectories    0\n",
       "category           0\n",
       "dtype: int64"
      ]
     },
     "execution_count": 1345,
     "metadata": {},
     "output_type": "execute_result"
    }
   ],
   "source": [
    "rawdf.isnull().sum()"
   ]
  },
  {
   "cell_type": "code",
   "execution_count": 1651,
   "id": "61c58ef7",
   "metadata": {},
   "outputs": [
    {
     "name": "stdout",
     "output_type": "stream",
     "text": [
      "f1 score = 0.2392124692370796, 5195\n",
      "precision score = 0.14032723772858519\n",
      "recall score = 0.81\n"
     ]
    }
   ],
   "source": [
    "from sklearn.naive_bayes import BernoulliNB\n",
    "\n",
    "clf1 = BernoulliNB()\n",
    "clf1.fit(X_train, y_train)\n",
    "#MultinomialNB()\n",
    "\n",
    "yp = clf1.predict(X_train)\n",
    "\n",
    "print(f\"f1 score = {f1_score(y_train, yp)}, {yp.sum()}\")\n",
    "print(f\"precision score = {precision_score(y_train, yp)}\")\n",
    "print(f\"recall score = {recall_score(y_train, yp)}\")"
   ]
  },
  {
   "cell_type": "code",
   "execution_count": 1561,
   "id": "af26705f",
   "metadata": {},
   "outputs": [
    {
     "data": {
      "text/plain": [
       "(18000, 19)"
      ]
     },
     "execution_count": 1561,
     "metadata": {},
     "output_type": "execute_result"
    }
   ],
   "source": [
    "# testing how to access each column and grab unique values in a loop\n",
    "tst = flatdf.select_dtypes(include='object').drop('sha256', axis=1)\n",
    "\n",
    "tst[tst.columns[0]].unique()\n",
    "\n",
    "tst.shape"
   ]
  },
  {
   "cell_type": "code",
   "execution_count": 1610,
   "id": "a6b2db22",
   "metadata": {},
   "outputs": [
    {
     "data": {
      "text/plain": [
       "(18000, 19)"
      ]
     },
     "execution_count": 1610,
     "metadata": {},
     "output_type": "execute_result"
    }
   ],
   "source": [
    "#ypred = [0 if pred < 0.5 else 1 for pred in ypred]\n",
    "\n",
    "tst = flatdf.select_dtypes(include='object').drop('sha256', axis=1)\n",
    "\n",
    "total = np.empty(tst.shape)\n",
    "\n",
    "def find_key(input_dict, value):\n",
    "    return next((k for k, v in input_dict.items() if v == value), None)\n",
    "\n",
    "k = 0\n",
    "for col in tst.columns:\n",
    "    \n",
    "    uniques = dict(enumerate(tst[col].unique()))\n",
    "    us = np.empty([X_train.shape[0]])\n",
    "\n",
    "    for i in range(X_train.shape[0]):\n",
    "        us[i] = find_key(uniques, flatdf.section_entry[i])\n",
    "        #print(type(us[i]), us[i], flatdf.section_entry[i])\n",
    "\n",
    "    us = np.nan_to_num(us, nan=len(uniques)+1)\n",
    "    \n",
    "    total[:, k] = us\n",
    "    i += 1\n",
    "    \n",
    "total.shape"
   ]
  },
  {
   "cell_type": "code",
   "execution_count": 1657,
   "id": "c7010fcf",
   "metadata": {},
   "outputs": [
    {
     "data": {
      "text/plain": [
       "(18000, 693)"
      ]
     },
     "execution_count": 1657,
     "metadata": {},
     "output_type": "execute_result"
    }
   ],
   "source": [
    "sha_labels = flatdf['sha256'].values\n",
    "X_train = np.array(flatdf.select_dtypes(include=np.number).drop('category', axis=1).values)\n",
    "y_train = np.array(flatdf['category'].values)\n",
    "\n",
    "#X_train = np.hstack((X_train, total))\n",
    "\n",
    "X_train.shape"
   ]
  },
  {
   "cell_type": "code",
   "execution_count": 1665,
   "id": "16963e39",
   "metadata": {},
   "outputs": [
    {
     "data": {
      "text/plain": [
       "0.05"
      ]
     },
     "execution_count": 1665,
     "metadata": {},
     "output_type": "execute_result"
    }
   ],
   "source": [
    "# fraction of positive malware labels\n",
    "y_train.sum()/y_train.shape[0]"
   ]
  },
  {
   "cell_type": "code",
   "execution_count": 1658,
   "id": "736ca413",
   "metadata": {},
   "outputs": [
    {
     "data": {
      "text/plain": [
       "(18000, 694)"
      ]
     },
     "execution_count": 1658,
     "metadata": {},
     "output_type": "execute_result"
    }
   ],
   "source": [
    "# just one column extra, this takes the section_entry file extension values, \n",
    "# enumerates the column and appends it to numeric columns\n",
    "def find_key(input_dict, value):\n",
    "    return next((k for k, v in input_dict.items() if v == value), None)\n",
    "\n",
    "uniques = dict(enumerate(flatdf.section_entry.unique()))\n",
    "\n",
    "us = np.empty([X_train.shape[0], 1])\n",
    "\n",
    "for i in range(X_train.shape[0]):\n",
    "    us[i] = find_key(uniques, flatdf.section_entry[i])\n",
    "    #print(type(us[i]), us[i], flatdf.section_entry[i])\n",
    "\n",
    "\n",
    "us = np.nan_to_num(us, nan=len(uniques)+1)\n",
    "\n",
    "X_train = np.hstack((X_train, us))\n",
    "\n",
    "X_train.shape"
   ]
  },
  {
   "cell_type": "code",
   "execution_count": 1659,
   "id": "fceabb50",
   "metadata": {},
   "outputs": [
    {
     "name": "stdout",
     "output_type": "stream",
     "text": [
      "[LibSVM]"
     ]
    }
   ],
   "source": [
    "from sklearn.svm import SVC\n",
    "from sklearn.pipeline import make_pipeline\n",
    "from sklearn.preprocessing import StandardScaler, Normalizer\n",
    "\n",
    "clf = make_pipeline(StandardScaler(), Normalizer(), SVC( C=100, kernel='poly', degree=3, gamma='scale', coef0=10.0, shrinking=True, probability=False, tol=1e-3, cache_size=100, class_weight='balanced', verbose=True, max_iter = -1))\n",
    "clf.fit(X_train, y_train)\n",
    "\n",
    "ypred = clf.predict(X_train)"
   ]
  },
  {
   "cell_type": "code",
   "execution_count": 1660,
   "id": "6968e4fe",
   "metadata": {},
   "outputs": [
    {
     "name": "stdout",
     "output_type": "stream",
     "text": [
      "f1 score = 0.9771739130434782, 940\n",
      "precision score = 0.9563829787234043\n",
      "recall score = 0.9988888888888889\n"
     ]
    }
   ],
   "source": [
    "print(f\"f1 score = {f1_score(y_train, ypred)}, {sum(ypred)}\")\n",
    "print(f\"precision score = {precision_score(y_train, ypred)}\")\n",
    "print(f\"recall score = {recall_score(y_train, ypred)}\")"
   ]
  },
  {
   "cell_type": "code",
   "execution_count": 1661,
   "id": "70049ba8",
   "metadata": {},
   "outputs": [],
   "source": [
    "import pickle\n",
    "\n",
    "pickle.dump(clf, open('pipeline.pickle', 'wb')) "
   ]
  },
  {
   "cell_type": "code",
   "execution_count": null,
   "id": "de4eeeb1",
   "metadata": {
    "scrolled": true
   },
   "outputs": [],
   "source": [
    "def preproc(data):\n",
    "    # array of numeric columns\n",
    "    xt = np.array(data.select_dtypes(include=np.number).drop('category', axis=1).values)\n",
    "    # just one column extra, this takes the section_entry file extension values, \n",
    "    # enumerates the column and appends it to numeric columns\n",
    "    \n",
    "    # \n",
    "    def find_key(input_dict, value):\n",
    "        return next((k for k, v in input_dict.items() if v == value), None)\n",
    "\n",
    "    uniques = dict(enumerate(data.section_entry.unique()))\n",
    "\n",
    "    us = np.empty([X_train.shape[0], 1])\n",
    "\n",
    "    for i in range(X_train.shape[0]):\n",
    "        us[i] = find_key(uniques, data.section_entry[i])\n",
    "\n",
    "    us = np.nan_to_num(us, nan=len(uniques)+1)\n",
    "\n",
    "    xt = np.hstack((xt, us))\n",
    "    \n",
    "    return xt\n",
    "\n",
    "pre_data = preproc(flatdf)\n",
    "\n",
    "all_results = []\n",
    "for i, sample in flatdf.iterrows():\n",
    "    result = {}\n",
    "    result['sha256'] = sample['sha256']\n",
    "    #result['data_type'] = sample['data_type']\n",
    "    #print(sample)\n",
    "    #sample = preproc(sample)\n",
    "    result['pred'] = clf.predict(pre_data[i].reshape(1, -1))\n",
    "    all_results.append(result)\n",
    "\n",
    "all_results"
   ]
  },
  {
   "cell_type": "code",
   "execution_count": 1663,
   "id": "3abbc2e6",
   "metadata": {},
   "outputs": [
    {
     "data": {
      "text/plain": [
       "18000"
      ]
     },
     "execution_count": 1663,
     "metadata": {},
     "output_type": "execute_result"
    }
   ],
   "source": [
    "flatdf.shape[0]"
   ]
  }
 ],
 "metadata": {
  "kernelspec": {
   "display_name": "Python 3 (ipykernel)",
   "language": "python",
   "name": "python3"
  },
  "language_info": {
   "codemirror_mode": {
    "name": "ipython",
    "version": 3
   },
   "file_extension": ".py",
   "mimetype": "text/x-python",
   "name": "python",
   "nbconvert_exporter": "python",
   "pygments_lexer": "ipython3",
   "version": "3.7.11"
  }
 },
 "nbformat": 4,
 "nbformat_minor": 5
}
